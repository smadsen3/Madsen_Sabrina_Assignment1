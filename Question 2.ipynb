{
 "cells": [
  {
   "cell_type": "code",
   "execution_count": 1,
   "metadata": {
    "collapsed": true
   },
   "outputs": [],
   "source": [
    "# Question 2\n",
    "# a) Wtite a routine\n",
    "import sys\n",
    "def factorial(n): #define the factorial function\n",
    "    if n == 0:\n",
    "        return 1\n",
    "    else:\n",
    "        return n * factorial(n-1)\n",
    "def binomial(n, k): #define the binomial function\n",
    "    if (type(n) == float) or (type(n) == complex):\n",
    "        return 'Arguement requires n is an integer'\n",
    "    if (type(k) == float) or (type(k) == complex):\n",
    "        return 'Arguement requires k is an integer'\n",
    "    if k < 1: #if k < 1 then output 1\n",
    "        return 1\n",
    "    if k > n:\n",
    "        return 'Arguement requires k is less than or equal to n'\n",
    "    else: #otherwise output binomial function\n",
    "        return factorial(n)/(factorial(k)*factorial(n-k))"
   ]
  },
  {
   "cell_type": "code",
   "execution_count": 2,
   "metadata": {
    "collapsed": false
   },
   "outputs": [
    {
     "data": {
      "text/plain": [
       "2"
      ]
     },
     "execution_count": 2,
     "metadata": {},
     "output_type": "execute_result"
    }
   ],
   "source": [
    "binomial(2,1)"
   ]
  },
  {
   "cell_type": "code",
   "execution_count": 3,
   "metadata": {
    "collapsed": false
   },
   "outputs": [],
   "source": [
    "# b) write out firt 20 lines of Pascal's triangle\n",
    "#print \"First\", x, \"terms of Pascal's Triangle:\"\n",
    "\n",
    "x=1 #first define x, which represents the number of rows, as any integer\n",
    "\n",
    "\n",
    "#now define a function which will give out the first x values Pascal's Triangle\n",
    "#def Pascal(x): \n",
    "#   n = 0\n",
    "#    k = 0\n",
    "#    PascalValues=[]\n",
    "#    while n < x:\n",
    "        \n",
    "#        while k < n:\n",
    "#            print binomial(n,k)\n",
    "#            k +=1\n",
    "#            PascalValues.append(binomial(n,k))\n",
    "#        while k == n:\n",
    "#            print binomial(n,k)\n",
    "#            n +=1\n",
    "#            k =0\n",
    "#            PascalValues.append(binomial(n,k))\n",
    "\n",
    "def Pascal(x): \n",
    "    n = 0\n",
    "    k = 0\n",
    "    \n",
    "    while n < x:\n",
    "        PascalValues=[]\n",
    "        while k < n:\n",
    "            #print binomial(n,k)\n",
    "            PascalValues.append(binomial(n,k))\n",
    "            k +=1\n",
    "        while k == n:\n",
    "            #print binomial(n,k)\n",
    "            PascalValues.append(binomial(n,k))\n",
    "            n +=1\n",
    "            k = 0\n",
    "        print(PascalValues)        "
   ]
  },
  {
   "cell_type": "code",
   "execution_count": 4,
   "metadata": {
    "collapsed": false
   },
   "outputs": [
    {
     "name": "stdout",
     "output_type": "stream",
     "text": [
      "[1]\n",
      "[1, 1]\n",
      "[1, 2, 1]\n",
      "[1, 3, 3, 1]\n",
      "[1, 4, 6, 4, 1]\n",
      "[1, 5, 10, 10, 5, 1]\n",
      "[1, 6, 15, 20, 15, 6, 1]\n",
      "[1, 7, 21, 35, 35, 21, 7, 1]\n",
      "[1, 8, 28, 56, 70, 56, 28, 8, 1]\n",
      "[1, 9, 36, 84, 126, 126, 84, 36, 9, 1]\n",
      "[1, 10, 45, 120, 210, 252, 210, 120, 45, 10, 1]\n",
      "[1, 11, 55, 165, 330, 462, 462, 330, 165, 55, 11, 1]\n",
      "[1, 12, 66, 220, 495, 792, 924, 792, 495, 220, 66, 12, 1]\n",
      "[1, 13, 78, 286, 715, 1287, 1716, 1716, 1287, 715, 286, 78, 13, 1]\n",
      "[1, 14, 91, 364, 1001, 2002, 3003, 3432, 3003, 2002, 1001, 364, 91, 14, 1]\n",
      "[1, 15, 105, 455, 1365, 3003, 5005, 6435, 6435, 5005, 3003, 1365, 455, 105, 15, 1]\n",
      "[1, 16, 120, 560, 1820, 4368, 8008, 11440, 12870, 11440, 8008, 4368, 1820, 560, 120, 16, 1]\n",
      "[1, 17, 136, 680, 2380, 6188, 12376, 19448, 24310, 24310, 19448, 12376, 6188, 2380, 680, 136, 17, 1]\n",
      "[1, 18, 153, 816, 3060, 8568, 18564, 31824, 43758, 48620, 43758, 31824, 18564, 8568, 3060, 816, 153, 18, 1]\n",
      "[1, 19, 171, 969, 3876, 11628, 27132, 50388, 75582, 92378, 92378, 75582, 50388, 27132, 11628, 3876, 969, 171, 19, 1]\n"
     ]
    }
   ],
   "source": [
    "Pascal(20)"
   ]
  },
  {
   "cell_type": "code",
   "execution_count": 5,
   "metadata": {
    "collapsed": false
   },
   "outputs": [],
   "source": [
    "# c) For a biased coin with probabiliy p of coming up heads calculate//\n",
    "# the probability of obtaining heads at least k times in n flips\n",
    "\n",
    "# Define a function describing the probability of obtaining heads\n",
    "# exactly k times out of n\n",
    "p = 0.5\n",
    "n = 2\n",
    "k = 1\n",
    "\n",
    "def Probk(p, n, k):\n",
    "    if p > 1:\n",
    "        return \"probability must be less than 1\"\n",
    "    else:    \n",
    "        return binomial(n,k) * p**k * (1-p)**(n-k)"
   ]
  },
  {
   "cell_type": "code",
   "execution_count": 6,
   "metadata": {
    "collapsed": false
   },
   "outputs": [
    {
     "data": {
      "text/plain": [
       "0.3125"
      ]
     },
     "execution_count": 6,
     "metadata": {},
     "output_type": "execute_result"
    }
   ],
   "source": [
    "Probk(0.5, 5, 2)"
   ]
  },
  {
   "cell_type": "code",
   "execution_count": 7,
   "metadata": {
    "collapsed": false
   },
   "outputs": [
    {
     "name": "stdout",
     "output_type": "stream",
     "text": [
      "0.216\n"
     ]
    }
   ],
   "source": [
    "# The probability of obtaining at least k times in n flips is\n",
    "# 1-Probk(p,n,k)-Probk(p,n,k-1)-...-Probk(p,n,0)\n",
    "\n",
    "prob = []\n",
    "def ProbAtLeastk(p,n,k):\n",
    "    while k <= n:\n",
    "        prob.append(Probk(p,n,k))\n",
    "        k+=1        \n",
    "    print sum(prob)\n",
    "\n",
    "ProbAtLeastk(0.3,3,2)"
   ]
  },
  {
   "cell_type": "code",
   "execution_count": 8,
   "metadata": {
    "collapsed": false
   },
   "outputs": [
    {
     "data": {
      "text/plain": [
       "0.2160000000000002"
      ]
     },
     "execution_count": 8,
     "metadata": {},
     "output_type": "execute_result"
    }
   ],
   "source": [
    "1-(Probk(0.3,3,0)+Probk(0.3,3,1))"
   ]
  },
  {
   "cell_type": "code",
   "execution_count": 110,
   "metadata": {
    "collapsed": false
   },
   "outputs": [
    {
     "name": "stdout",
     "output_type": "stream",
     "text": [
      "[0, 0, 1, 0, 0, 0, 0, 1, 1, 0]\n"
     ]
    },
    {
     "data": {
      "text/plain": [
       "0.5"
      ]
     },
     "execution_count": 110,
     "metadata": {},
     "output_type": "execute_result"
    }
   ],
   "source": [
    "# d) Simulate the experiment N times, for large N, for each value of N \n",
    "# determine the fraction of successful experiments. Show the result in a plot \n",
    "\n",
    "#d) simulate the coin flip N times\n",
    "import matplotlib.pyplot as plot\n",
    "import random\n",
    "import numpy\n",
    "\n",
    "\n",
    "#define a list of outcome of flips\n",
    "def trial(p,N):\n",
    "    flips = []\n",
    "    i = 1\n",
    "    while i <= N:\n",
    "        if random.random() < p:\n",
    "            flips.append(1)\n",
    "        else:\n",
    "            flips.append(0)\n",
    "        i+=1\n",
    "    return flips\n",
    "\n",
    "print trial(0.5,10)\n",
    "\n",
    "#Determine the average number of trials which were successful\n",
    "def Average(p,N):\n",
    "    return sum(trial(p,N))/(N*1.0)\n",
    "\n",
    "Average(0.5,10)"
   ]
  },
  {
   "cell_type": "code",
   "execution_count": null,
   "metadata": {
    "collapsed": false
   },
   "outputs": [],
   "source": []
  },
  {
   "cell_type": "code",
   "execution_count": null,
   "metadata": {
    "collapsed": false
   },
   "outputs": [],
   "source": []
  },
  {
   "cell_type": "code",
   "execution_count": 125,
   "metadata": {
    "collapsed": false
   },
   "outputs": [],
   "source": [
    "#Define a list of the average values of N trials for N increasing by 10 and plot it\n",
    "def FractionofSuccesses(p,Nmax):\n",
    "    Averages=[]\n",
    "    Trials = []\n",
    "    N = 10\n",
    "    while N<=Nmax:\n",
    "        Averages.append(Average(p,N))\n",
    "        Trials.append(N)\n",
    "        N+=10\n",
    "    plot.plot(Trials,Averages)\n",
    "    plot.ylabel('Fraction of Successes')\n",
    "    plot.xlabel('Number of Trials')\n",
    "    plot.title('Fraction of Successful Trials vs trials')\n",
    "    plot.show()\n",
    "    print Averages"
   ]
  },
  {
   "cell_type": "code",
   "execution_count": 130,
   "metadata": {
    "collapsed": false
   },
   "outputs": [
    {
     "data": {
      "image/png": "[encoded data removed]",
      "text/plain": [
       "<matplotlib.figure.Figure at 0x7f7928e6ed50>"
      ]
     },
     "metadata": {},
     "output_type": "display_data"
    },
    {
     "name": "stdout",
     "output_type": "stream",
     "text": [
      "[0.6, 0.55, 0.5666666666666667, 0.45, 0.5, 0.45, 0.5, 0.55, 0.5444444444444444, 0.5, 0.4818181818181818, 0.6, 0.5153846153846153, 0.5285714285714286, 0.4866666666666667, 0.48125, 0.5647058823529412, 0.5277777777777778, 0.4789473684210526, 0.49, 0.5190476190476191, 0.5, 0.508695652173913, 0.5041666666666667, 0.452, 0.4230769230769231, 0.4888888888888889, 0.5071428571428571, 0.5344827586206896, 0.5366666666666666, 0.5290322580645161, 0.50625, 0.46060606060606063, 0.4647058823529412, 0.5171428571428571, 0.55, 0.4864864864864865, 0.4921052631578947, 0.49743589743589745, 0.46, 0.5219512195121951, 0.5071428571428571, 0.5162790697674419, 0.5363636363636364, 0.5377777777777778, 0.5108695652173914, 0.5170212765957447, 0.5416666666666666, 0.5040816326530613, 0.476, 0.5, 0.4980769230769231, 0.5075471698113208, 0.49074074074074076, 0.49272727272727274, 0.5035714285714286, 0.512280701754386, 0.45689655172413796, 0.4830508474576271, 0.48, 0.48688524590163934, 0.4935483870967742, 0.5, 0.5046875, 0.5076923076923077, 0.5075757575757576, 0.4835820895522388, 0.5, 0.49130434782608695, 0.49, 0.532394366197183, 0.4861111111111111, 0.5219178082191781, 0.5135135135135135, 0.5106666666666667, 0.4986842105263158, 0.4727272727272727, 0.5102564102564102, 0.5189873417721519, 0.4875, 0.49135802469135803, 0.5073170731707317, 0.4963855421686747, 0.4928571428571429, 0.4929411764705882, 0.5069767441860465, 0.4747126436781609, 0.5238636363636363, 0.49550561797752807, 0.4888888888888889, 0.4945054945054945, 0.49782608695652175, 0.5172043010752688, 0.4925531914893617, 0.48, 0.48541666666666666, 0.5154639175257731, 0.4602040816326531, 0.4858585858585859, 0.526]\n"
     ]
    }
   ],
   "source": [
    "FractionofSuccesses(0.5,1000)"
   ]
  },
  {
   "cell_type": "code",
   "execution_count": null,
   "metadata": {
    "collapsed": false
   },
   "outputs": [],
   "source": []
  },
  {
   "cell_type": "code",
   "execution_count": null,
   "metadata": {
    "collapsed": true
   },
   "outputs": [],
   "source": []
  },
  {
   "cell_type": "code",
   "execution_count": null,
   "metadata": {
    "collapsed": true
   },
   "outputs": [],
   "source": []
  }
 ],
 "metadata": {
  "kernelspec": {
   "display_name": "Python 2",
   "language": "python",
   "name": "python2"
  },
  "language_info": {
   "codemirror_mode": {
    "name": "ipython",
    "version": 2
   },
   "file_extension": ".py",
   "mimetype": "text/x-python",
   "name": "python",
   "nbconvert_exporter": "python",
   "pygments_lexer": "ipython2",
   "version": "2.7.12"
  }
 },
 "nbformat": 4,
 "nbformat_minor": 1
}
